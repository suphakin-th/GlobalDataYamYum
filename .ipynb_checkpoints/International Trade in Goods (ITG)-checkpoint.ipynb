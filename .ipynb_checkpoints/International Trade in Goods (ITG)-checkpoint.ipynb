{
 "cells": [
  {
   "cell_type": "code",
   "execution_count": 1,
   "id": "94c032b4-d4bd-4a83-b408-029d973d33d5",
   "metadata": {},
   "outputs": [
    {
     "name": "stdout",
     "output_type": "stream",
     "text": [
      "Collecting pandas\n",
      "  Using cached pandas-2.2.3-cp312-cp312-manylinux_2_17_x86_64.manylinux2014_x86_64.whl.metadata (89 kB)\n",
      "Collecting plotly\n",
      "  Using cached plotly-6.0.1-py3-none-any.whl.metadata (6.7 kB)\n",
      "Collecting numpy\n",
      "  Using cached numpy-2.2.5-cp312-cp312-manylinux_2_17_x86_64.manylinux2014_x86_64.whl.metadata (62 kB)\n",
      "Requirement already satisfied: python-dateutil>=2.8.2 in /media/babylvoob/ProjectCoding/global_good_trading/.venv/lib/python3.12/site-packages (from pandas) (2.9.0.post0)\n",
      "Collecting pytz>=2020.1 (from pandas)\n",
      "  Using cached pytz-2025.2-py2.py3-none-any.whl.metadata (22 kB)\n",
      "Collecting tzdata>=2022.7 (from pandas)\n",
      "  Using cached tzdata-2025.2-py2.py3-none-any.whl.metadata (1.4 kB)\n",
      "Collecting narwhals>=1.15.1 (from plotly)\n",
      "  Using cached narwhals-1.39.0-py3-none-any.whl.metadata (11 kB)\n",
      "Requirement already satisfied: packaging in /media/babylvoob/ProjectCoding/global_good_trading/.venv/lib/python3.12/site-packages (from plotly) (25.0)\n",
      "Requirement already satisfied: six>=1.5 in /media/babylvoob/ProjectCoding/global_good_trading/.venv/lib/python3.12/site-packages (from python-dateutil>=2.8.2->pandas) (1.17.0)\n",
      "Using cached pandas-2.2.3-cp312-cp312-manylinux_2_17_x86_64.manylinux2014_x86_64.whl (12.7 MB)\n",
      "Using cached plotly-6.0.1-py3-none-any.whl (14.8 MB)\n",
      "Using cached numpy-2.2.5-cp312-cp312-manylinux_2_17_x86_64.manylinux2014_x86_64.whl (16.1 MB)\n",
      "Using cached narwhals-1.39.0-py3-none-any.whl (339 kB)\n",
      "Using cached pytz-2025.2-py2.py3-none-any.whl (509 kB)\n",
      "Using cached tzdata-2025.2-py2.py3-none-any.whl (347 kB)\n",
      "Installing collected packages: pytz, tzdata, numpy, narwhals, plotly, pandas\n",
      "\u001b[2K   \u001b[90m━━━━━━━━━━━━━━━━━━━━━━━━━━━━━━━━━━━━━━━━\u001b[0m \u001b[32m6/6\u001b[0m [pandas]2m5/6\u001b[0m [pandas]s]\n",
      "\u001b[1A\u001b[2KSuccessfully installed narwhals-1.39.0 numpy-2.2.5 pandas-2.2.3 plotly-6.0.1 pytz-2025.2 tzdata-2025.2\n"
     ]
    }
   ],
   "source": [
    "import pandas as pd\n",
    "import plotly.express as px\n",
    "import plotly.graph_objects as go\n",
    "from plotly.subplots import make_subplots\n",
    "import numpy as np\n",
    "import warnings\n",
    "warnings.filterwarnings('ignore')"
   ]
  },
  {
   "cell_type": "code",
   "execution_count": null,
   "id": "3ebd7bd4",
   "metadata": {},
   "outputs": [
    {
     "ename": "AttributeError",
     "evalue": "'list' object has no attribute 'str'",
     "output_type": "error",
     "traceback": [
      "\u001b[31m---------------------------------------------------------------------------\u001b[39m",
      "\u001b[31mAttributeError\u001b[39m                            Traceback (most recent call last)",
      "\u001b[36mCell\u001b[39m\u001b[36m \u001b[39m\u001b[32mIn[37]\u001b[39m\u001b[32m, line 16\u001b[39m\n\u001b[32m     12\u001b[39m     unique_values.extend([part.strip() \u001b[38;5;28;01mfor\u001b[39;00m part \u001b[38;5;129;01min\u001b[39;00m indicator.split(\u001b[33m'\u001b[39m\u001b[33m,\u001b[39m\u001b[33m'\u001b[39m)])\n\u001b[32m     15\u001b[39m \u001b[38;5;66;03m# Display basic information about the dataset\u001b[39;00m\n\u001b[32m---> \u001b[39m\u001b[32m16\u001b[39m \u001b[38;5;28mprint\u001b[39m(\u001b[33m\"\u001b[39m\u001b[33mnames:\u001b[39m\u001b[33m\"\u001b[39m, \u001b[43munique_values\u001b[49m\u001b[43m.\u001b[49m\u001b[43mstr\u001b[49m.strip().unique())\n",
      "\u001b[31mAttributeError\u001b[39m: 'list' object has no attribute 'str'"
     ]
    }
   ],
   "source": [
    "# Read the CSV file\n",
    "file_path = '../dataset_2025-05-13T12_53_50.797561513Z_DEFAULT_INTEGRATION_IMF.STA_ITG_4.0.0.csv'\n",
    "\n",
    "# Read the CSV with all columns as strings initially to handle mixed types\n",
    "df = pd.read_csv(file_path, low_memory=False)\n",
    "\n",
    "# Display basic information about the dataset\n",
    "stacked_df = df.stack()\n",
    "values = df['INDICATOR'].str.strip().unique()\n",
    "unique_values = []\n",
    "for indicator in values: \n",
    "    unique_values.extend([part.strip() for part in indicator.split(',')])\n",
    "unique_values = list(set(unique_values))\n",
    "\n",
    "\n",
    "# Display basic information about the dataset\n",
    "print(\"names:\", unique_values.str.strip().unique())"
   ]
  },
  {
   "cell_type": "code",
   "execution_count": null,
   "id": "2af46f19",
   "metadata": {},
   "outputs": [],
   "source": [
    "metadata_cols = df.columns.tolist()\n",
    "# Identify metadata columns vs time series columns\n",
    "metadata_cols = [\n",
    "    'DATASET', 'SERIES_CODE', 'OBS_MEASURE', 'COUNTRY', 'INDICATOR',\n",
    "    'TYPE_OF_TRANSFORMATION', 'FREQUENCY', 'SCALE', 'PRECISION', 'DECIMALS_DISPLAYED',\n",
    "    'TR_DIRECTION', 'TRADE_FLOW', 'INDEX_TYPE', 'VALUATION', 'TRANSFORMATION',\n",
    "    'UNIT', 'DERIVATION_TYPE', 'OVERLAP', 'IFS_FLAG', 'REFERENCE_PERIOD',\n",
    "    'STATUS', 'DOI', 'FULL_DESCRIPTION', 'AUTHOR', 'PUBLISHER',\n",
    "    'DEPARTMENT', 'CONTACT_POINT', 'TOPIC', 'TOPIC_DATASET', 'KEYWORDS',\n",
    "    'KEYWORDS_DATASET', 'LANGUAGE', 'PUBLICATION_DATE', 'UPDATE_DATE', 'METHODOLOGY',\n",
    "    'METHODOLOGY_NOTES', 'ACCESS_SHARING_LEVEL', 'ACCESS_SHARING_NOTES', 'SECURITY_CLASSIFICATION', 'SOURCE',\n",
    "    'SHORT_SOURCE_CITATION', 'FULL_SOURCE_CITATION', 'LICENSE', 'SUGGESTED_CITATION', 'KEY_INDICATOR',\n",
    "    'SERIES_NAME'\n",
    "]"
   ]
  },
  {
   "cell_type": "code",
   "execution_count": null,
   "id": "6c762da4",
   "metadata": {},
   "outputs": [],
   "source": [
    "time_cols = [col for col in metadata_cols if col not in metadata_cols]\n"
   ]
  }
 ],
 "metadata": {
  "kernelspec": {
   "display_name": ".venv",
   "language": "python",
   "name": "python3"
  },
  "language_info": {
   "codemirror_mode": {
    "name": "ipython",
    "version": 3
   },
   "file_extension": ".py",
   "mimetype": "text/x-python",
   "name": "python",
   "nbconvert_exporter": "python",
   "pygments_lexer": "ipython3",
   "version": "3.12.3"
  }
 },
 "nbformat": 4,
 "nbformat_minor": 5
}
